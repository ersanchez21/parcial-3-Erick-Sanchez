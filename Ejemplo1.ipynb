{
  "nbformat": 4,
  "nbformat_minor": 0,
  "metadata": {
    "colab": {
      "provenance": [],
      "authorship_tag": "ABX9TyNjjXaN6MOuR10AhSTVLExG",
      "include_colab_link": true
    },
    "kernelspec": {
      "name": "python3",
      "display_name": "Python 3"
    },
    "language_info": {
      "name": "python"
    }
  },
  "cells": [
    {
      "cell_type": "markdown",
      "metadata": {
        "id": "view-in-github",
        "colab_type": "text"
      },
      "source": [
        "<a href=\"https://colab.research.google.com/github/ersanchez21/parcial-3-Erick-Sanchez/blob/main/Ejemplo1.ipynb\" target=\"_parent\"><img src=\"https://colab.research.google.com/assets/colab-badge.svg\" alt=\"Open In Colab\"/></a>"
      ]
    },
    {
      "cell_type": "code",
      "execution_count": null,
      "metadata": {
        "colab": {
          "base_uri": "https://localhost:8080/"
        },
        "id": "KlA6r8SrWgS6",
        "outputId": "1b72b69d-0803-477c-8706-4f370dbffbea"
      },
      "outputs": [
        {
          "output_type": "stream",
          "name": "stdout",
          "text": [
            "[6, 7, 8, 9]\n"
          ]
        }
      ],
      "source": [
        "#CÓDIGO IMPERATIVO\n",
        "lista_numeros = [1,2,3,4,5,6,7,8,9]\n",
        "numeros_mayores_que_cinco = []\n",
        "\n",
        "for numero in lista_numeros:\n",
        "  if numero > 5:\n",
        "    numeros_mayores_que_cinco.append(numero)\n",
        "\n",
        "print(numeros_mayores_que_cinco)"
      ]
    },
    {
      "cell_type": "code",
      "source": [
        "#ÇÓDIGO DECLARATIVO\n",
        "lista_numeros = [1,2,3,4,5,6,7,8,9]\n",
        "numeros_mayores_que_cinco = []\n",
        "print([numero for numero in lista_numeros if numero > 5])"
      ],
      "metadata": {
        "colab": {
          "base_uri": "https://localhost:8080/"
        },
        "id": "AKD4gNdtXpn-",
        "outputId": "b64638fa-9f51-44a7-c698-86cc109b1367"
      },
      "execution_count": null,
      "outputs": [
        {
          "output_type": "stream",
          "name": "stdout",
          "text": [
            "[6, 7, 8, 9]\n"
          ]
        }
      ]
    }
  ]
}